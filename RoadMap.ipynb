{
 "cells": [
  {
   "cell_type": "markdown",
   "id": "f72da525",
   "metadata": {},
   "source": [
    "### **✅ Day 1: RDS + DynamoDB – “Where’s My Data, Bro?”**\n",
    "\n",
    "#### **🧠 Why start here?**\n",
    "\n",
    "Because no matter how cool your frontend looks, it’s **useless without data**.User logins, orders, transactions — all your precious app info has to **live somewhere**.\n",
    "\n",
    "AWS offers two powerful storage options:\n",
    "\n",
    "- 🟦 **RDS (Relational Database Service)**: Structured SQL DBs like MySQL or PostgreSQL (basically, rows, columns & relationships — think Google Sheets with rules)\n",
    "\n",
    "- 🟧 **DynamoDB**: A serverless, lightning-fast NoSQL database for things like OTPs, logs, chat messages, or \"number of times a button was rage-clicked\".\n",
    "\n",
    "\n",
    "> You can’t build a serious app using Google Sheets. Unless you’re building a startup pitch deck. Then, maybe.\n",
    "\n",
    "#### **👨‍🔬 What You’ll Learn:**\n",
    "\n",
    "- What is a **Managed Database Service** and why AWS RDS makes your life easier (Spoiler: no more `apt install mysql-server`)\n",
    "\n",
    "- Launching a **MySQL/PostgreSQL RDS instance** — your first cloud SQL database\n",
    "\n",
    "- Creating your first **DynamoDB table** with primary keys — no schema? No stress.\n",
    "\n",
    "- Basics of **VPC (Virtual Private Cloud)** — AWS's version of your private office cabin\n",
    "\n",
    "- Opening ports with **Security Groups** — only let in who you trust (like a VIP guest list)\n",
    "\n",
    "- Connect Using **Python (Boto3) or Node.js (aws-sdk)** and perform CRUD ops\n",
    "\n",
    "- **RDS vs DynamoDB** — when to use which (based on real-world app needs)\n",
    "\n",
    "\n",
    "#### **🧪 Hands-on Tasks:**\n",
    "\n",
    "🔹 **RDS**:\n",
    "\n",
    "- Go to **AWS Console → RDS → Create database**\n",
    "\n",
    "- Choose **MySQL/PostgreSQL**\n",
    "\n",
    "- Use **Free Tier template**\n",
    "\n",
    "- Enable **public access**, configure **VPC + Security Group**\n",
    "\n",
    "- Connect via:\n",
    "\n",
    "    - **DBeaver** or MySQL Workbench\n",
    "\n",
    "    - OR `mysql -h your-endpoint.rds.amazonaws.com -u admin -p`\n",
    "\n",
    "- Try basic SQL:\n",
    "\n"
   ]
  },
  {
   "cell_type": "code",
   "execution_count": null,
   "id": "d4849a5a",
   "metadata": {
    "vscode": {
     "languageId": "sql"
    }
   },
   "outputs": [],
   "source": [
    "CREATE TABLE students (id INT, name VARCHAR(50));\n",
    "INSERT INTO students VALUES (1, 'Hemendra');\n",
    "SELECT * FROM students;"
   ]
  },
  {
   "cell_type": "markdown",
   "id": "b280cf96",
   "metadata": {},
   "source": [
    "🔹 **DynamoDB**:\n",
    "\n",
    "1) Go to **AWS Console → DynamoDB → Create table**\n",
    "\n",
    "2) Table name: `Users`, Primary key: `userId` (String)\n",
    "\n",
    "3) Use **Python (boto3)** or **Node.js (aws-sdk)** to:"
   ]
  },
  {
   "cell_type": "code",
   "execution_count": null,
   "id": "566b7612",
   "metadata": {},
   "outputs": [],
   "source": [
    "# Python example\n",
    "import boto3 # type: ignore\n",
    "\n",
    "dynamodb = boto3.resource('dynamodb')\n",
    "table = dynamodb.Table('Users')\n",
    "\n",
    "# Insert item\n",
    "table.put_item(Item={'userId': 'u001', 'name': 'Hemendra'})\n",
    "\n",
    "# Fetch item\n",
    "response = table.get_item(Key={'userId': 'u001'})\n",
    "print(response['Item'])\n"
   ]
  },
  {
   "cell_type": "markdown",
   "id": "7aee0a62",
   "metadata": {},
   "source": [
    "**✅ By End of Day 1, You’ll Be Able To:**\n",
    "\n",
    "- Set up **relational & NoSQL** databases in AWS\n",
    "\n",
    "- Understand how networking with **VPCs** and **Security Groups** controls access\n",
    "\n",
    "- Query and interact with databases like a backend dev\n",
    "\n",
    "- Know when to choose **DynamoDB over RDS** (and vice versa)\n",
    "\n"
   ]
  },
  {
   "cell_type": "markdown",
   "id": "3cbf8e46",
   "metadata": {},
   "source": [
    "-----------\n",
    "---------"
   ]
  },
  {
   "cell_type": "markdown",
   "id": "8469551a",
   "metadata": {},
   "source": [
    "### **✅ Day 2: EC2 + NGINX + API Gateway + AWS CLI – “Hello, Traffic!”**\n",
    "\n",
    "#### **🧠 Why this next?**\n",
    "\n",
    "Now that your app knows where to store stuff, it’s time to actually **run your app** and serve it to the outside world. That’s where EC2, NGINX, and API Gateway come in.\n",
    "\n",
    "> Think of EC2 as your cloud laptop. NGINX is the receptionist. API Gateway is the well-dressed guy at the front desk handling all your app's calls. And AWS CLI? That's your keyboard shortcut to AWS power.\n",
    "\n",
    "#### **👨‍🔬 What You’ll Learn:**\n",
    "\n",
    "- How to launch a virtual server (EC2)\n",
    "\n",
    "- Set up **NGINX** as a reverse proxy (and not lose your mind)\n",
    "\n",
    "- Use **API Gateway** to expose HTTP endpoints without servers\n",
    "\n",
    "- Use **AWS CLI** to control AWS like a terminal ninja\n",
    "\n",
    "#### **🧪 Hands-on Tasks:**\n",
    "\n",
    "**🔹 Launch EC2:**\n",
    "\n",
    "- Console → EC2 → Launch Instance → Amazon Linux 2 AMI\n",
    "\n",
    "- Choose t2.micro (free tier)\n",
    "\n",
    "- Add Inbound rule: port 22 (SSH), 80 (HTTP), 3000 if needed\n",
    "\n",
    "- Download PEM → Connect via:"
   ]
  },
  {
   "cell_type": "code",
   "execution_count": null,
   "id": "a989ddfc",
   "metadata": {
    "vscode": {
     "languageId": "powershell"
    }
   },
   "outputs": [],
   "source": [
    "ssh -i your-key.pem ec2-user@<your-ec2-public-ip>"
   ]
  },
  {
   "cell_type": "markdown",
   "id": "aaacdc35",
   "metadata": {},
   "source": [
    "**🔹 Install NGINX:**"
   ]
  },
  {
   "cell_type": "code",
   "execution_count": null,
   "id": "bb7abae8",
   "metadata": {
    "vscode": {
     "languageId": "powershell"
    }
   },
   "outputs": [],
   "source": [
    "sudo yum update -y\n",
    "sudo amazon-linux-extras install nginx1 -y\n",
    "sudo systemctl start nginx\n",
    "sudo systemctl enable nginx"
   ]
  },
  {
   "cell_type": "markdown",
   "id": "78a3a853",
   "metadata": {},
   "source": [
    "**🔹 Reverse Proxy Node.js:**\n",
    "\n",
    "- Assume your app runs on port 3000\n",
    "\n",
    "- Edit `/etc/nginx/nginx.conf`:"
   ]
  },
  {
   "cell_type": "code",
   "execution_count": null,
   "id": "e7564500",
   "metadata": {
    "vscode": {
     "languageId": "powershell"
    }
   },
   "outputs": [],
   "source": [
    "location / {\n",
    "  proxy_pass http://localhost:3000;\n",
    "  proxy_http_version 1.1;\n",
    "  proxy_set_header Upgrade $http_upgrade;\n",
    "  proxy_set_header Connection 'upgrade';\n",
    "  proxy_set_header Host $host;\n",
    "  proxy_cache_bypass $http_upgrade;\n",
    "}"
   ]
  },
  {
   "cell_type": "markdown",
   "id": "23d796ba",
   "metadata": {},
   "source": [
    "**🔹 API Gateway:**\n",
    "\n",
    "- Go to API Gateway → Create HTTP API\n",
    "\n",
    "- Add routes like `/login`, `/products`\n",
    "\n",
    "- Set integration with Lambda (we'll build one later)\n",
    "\n",
    "- Deploy and get public endpoint URL\n",
    "\n",
    "**🔹 AWS CLI Setup:**"
   ]
  },
  {
   "cell_type": "code",
   "execution_count": null,
   "id": "e8673edd",
   "metadata": {
    "vscode": {
     "languageId": "powershell"
    }
   },
   "outputs": [],
   "source": [
    "curl \"https://awscli.amazonaws.com/awscli-exe-linux-x86_64.zip\" -o \"awscliv2.zip\"\n",
    "unzip awscliv2.zip\n",
    "sudo ./aws/install\n",
    "aws configure"
   ]
  },
  {
   "cell_type": "markdown",
   "id": "ec775ff5",
   "metadata": {},
   "source": [
    "- Try:"
   ]
  },
  {
   "cell_type": "code",
   "execution_count": null,
   "id": "dcbde5fa",
   "metadata": {
    "vscode": {
     "languageId": "powershell"
    }
   },
   "outputs": [],
   "source": [
    "aws ec2 describe-instances\n",
    "aws s3 ls\n",
    "aws dynamodb list-tables"
   ]
  },
  {
   "cell_type": "markdown",
   "id": "6e0443ad",
   "metadata": {},
   "source": [
    "**✅ By End of Day 2, You’ll Be Able To:**\n",
    "\n",
    "- Launch your app on a live server\n",
    "\n",
    "- Serve static + dynamic content via NGINX\n",
    "\n",
    "- Expose APIs to public without maintaining server via API Gateway\n",
    "\n",
    "- Use AWS CLI like a boss\n",
    "\n",
    "> TL;DR: Your backend is no longer stuck in localhost hell. It’s live, it’s public, and you deployed it like a legend."
   ]
  },
  {
   "cell_type": "markdown",
   "id": "847db6cb",
   "metadata": {},
   "source": [
    "-----------"
   ]
  },
  {
   "cell_type": "markdown",
   "id": "770c1e05",
   "metadata": {},
   "source": [
    "### **✅ Day 3: Load Balancer + Auto Scaling + Route 53 – “Making It Rain Traffic (and Survive It)”**\n",
    "\n",
    "#### **🧠 Why this next?**\n",
    "\n",
    "You’ve got a server, it runs, it serves. But what happens when your app suddenly goes viral (or your friends run 100 refreshes just to mess with you)? Boom — your single EC2 collapses like a house of cards in a storm.\n",
    "\n",
    "> Day 3 is all about **scaling smart** — let AWS handle the panic attacks while you sip chai.\n",
    "\n",
    "\n",
    "#### **👨‍🔬 What You’ll Learn:**\n",
    "\n",
    "- What is an **Application Load Balancer (ALB)** and why it’s your app’s bouncer\n",
    "\n",
    "- How **Auto Scaling Groups (ASGs)** create/destroy EC2s like obedient robots\n",
    "\n",
    "- What is a **Launch Template** and how it defines the blueprint for your instances\n",
    "\n",
    "- How to configure **Route 53** to use custom domains and DNS magic\n",
    "\n",
    "#### **🧪 Hands-on Tasks:**\n",
    "\n",
    "**🔹 Application Load Balancer:**\n",
    "\n",
    "- Go to EC2 → Load Balancers → Create Load Balancer → Choose \"Application Load Balancer\"\n",
    "\n",
    "- Add listeners (HTTP port 80), set Target Group to your EC2 instance\n",
    "\n",
    "- Health check endpoint = `/health` → make sure your app has one!\n",
    "\n",
    "**🔹 Auto Scaling Group:**\n",
    "\n",
    "- EC2 → Launch Template → Configure your EC2 base setup (AMI, instance type, key, security group)\n",
    "\n",
    "- Create ASG → Attach to Load Balancer → set min: 1, desired: 2, max: 4\n",
    "\n",
    "- Scaling Policy → Add rule: scale out when CPU > 50%, scale in when CPU < 20%\n",
    "\n",
    "**🔹 Route 53:**\n",
    "\n",
    "- Buy a domain (or use an existing one)\n",
    "\n",
    "- Create a Hosted Zone\n",
    "\n",
    "- Add \"A Record\" (or Alias) → point it to Load Balancer DNS\n",
    "\n",
    "- Now your app is accessible like `https://mycoolapp.com`\n",
    "\n",
    "\n",
    "**✅ By End of Day 3, You’ll Be Able To:**\n",
    "\n",
    "- Load balance traffic across multiple EC2s like a cloud veteran\n",
    "\n",
    "- Handle spikes in traffic without breaking a sweat\n",
    "\n",
    "- Automatically spawn EC2 instances like a Kubernetes intern (but easier)\n",
    "\n",
    "- Route your app to a real-world domain using DNS\n",
    "\n",
    "> TL;DR: You’re no longer running a hobby project. You’ve got redundancy, resilience, and a domain name that screams \"PROFESSIONAL\" in uppercase."
   ]
  },
  {
   "cell_type": "markdown",
   "id": "0bbf249a",
   "metadata": {},
   "source": [
    "----------"
   ]
  },
  {
   "cell_type": "markdown",
   "id": "ac7dfa87",
   "metadata": {},
   "source": [
    "### **✅ Day 4: Docker + ECR + ECS – “Ship Happens”**\n",
    "\n",
    "#### **🧠 Why now?**\n",
    "\n",
    "You’ve got an app. It works. But deploying the same app on different machines feels like explaining memes to your grandparents — unpredictable and painful.\n",
    "\n",
    "> Docker is the lunchbox for your app. Same meal, same taste — whether it’s at home, AWS, or on Mars.\n",
    "\n",
    "Today you’ll containerize your app (wrap it up nice), store it in ECR (your AWS fridge), and run it using ECS (cloud butler who serves your app without drama).\n",
    "\n",
    "#### **👨‍🔬 What You’ll Learn:**\n",
    "\n",
    "- Basics of **Docker**: containers, images, Dockerfiles — the magic Tupperware\n",
    "\n",
    "- How to store your container in **ECR (Elastic Container Registry)**\n",
    "\n",
    "- How to deploy the container using **ECS (Elastic Container Service)**\n",
    "\n",
    "- Use **Fargate** to deploy containers without managing EC2 manually\n",
    "\n",
    "#### **🧪 Hands-on:**\n",
    "\n",
    "**🔹 Dockerize Your App** (Node.js Example):\n",
    "\n",
    "Create a Dockerfile:"
   ]
  },
  {
   "cell_type": "code",
   "execution_count": null,
   "id": "e3da6197",
   "metadata": {
    "vscode": {
     "languageId": "powershell"
    }
   },
   "outputs": [],
   "source": [
    "FROM node:18\n",
    "WORKDIR /app\n",
    "COPY . .\n",
    "RUN npm install\n",
    "CMD [\"node\", \"index.js\"]"
   ]
  },
  {
   "cell_type": "markdown",
   "id": "98d3c860",
   "metadata": {},
   "source": [
    "Build and run locally:"
   ]
  },
  {
   "cell_type": "code",
   "execution_count": null,
   "id": "0b378fac",
   "metadata": {
    "vscode": {
     "languageId": "powershell"
    }
   },
   "outputs": [],
   "source": [
    "docker build -t myapp .\n",
    "docker run -p 3000:3000 myapp"
   ]
  },
  {
   "cell_type": "markdown",
   "id": "a2930953",
   "metadata": {},
   "source": [
    "**🔹 Push to ECR:**\n",
    "\n",
    "- Console → ECR → Create Repository `myapp`\n",
    "\n",
    "- Authenticate Docker to AWS:\n",
    "\n"
   ]
  },
  {
   "cell_type": "code",
   "execution_count": null,
   "id": "bb5491d6",
   "metadata": {
    "vscode": {
     "languageId": "powershell"
    }
   },
   "outputs": [],
   "source": [
    "aws ecr get-login-password --region <your-region> | \\\n",
    "  docker login --username AWS --password-stdin <your-ecr-url>"
   ]
  },
  {
   "cell_type": "markdown",
   "id": "134652ff",
   "metadata": {},
   "source": [
    "- Tag and push:"
   ]
  },
  {
   "cell_type": "code",
   "execution_count": null,
   "id": "b8628ab2",
   "metadata": {
    "vscode": {
     "languageId": "powershell"
    }
   },
   "outputs": [],
   "source": [
    "docker tag myapp:latest <your-ecr-url>/myapp\n",
    "\n",
    "docker push <your-ecr-url>/myapp"
   ]
  },
  {
   "cell_type": "markdown",
   "id": "7ee129cb",
   "metadata": {},
   "source": [
    "**🔹 Deploy on ECS with Fargate:**\n",
    "\n",
    "- Console → ECS → Create Cluster (Networking Only)\n",
    "\n",
    "- Task Definition → Use your ECR image\n",
    "\n",
    "- Create Service → Launch type: Fargate\n",
    "\n",
    "- Choose VPC/Subnets and assign Security Group\n",
    "\n",
    "- Add Auto Assign Public IP = ENABLED\n",
    "\n",
    "**✅ By End of Day 4, You’ll Be Able To:**\n",
    "\n",
    "- Wrap your app into a Docker container like a pro chef\n",
    "\n",
    "- Store and manage containers in ECR\n",
    "\n",
    "- Deploy apps serverlessly using ECS Fargate — no more EC2 babysitting\n",
    "\n",
    "> TL;DR: Your app now runs the same everywhere, and AWS handles the mess. Welcome to modern deployments."
   ]
  },
  {
   "cell_type": "markdown",
   "id": "d030d155",
   "metadata": {},
   "source": [
    "---------"
   ]
  },
  {
   "cell_type": "markdown",
   "id": "1f95555a",
   "metadata": {},
   "source": [
    "### **✅ Day 5: IAM + Cognito + SES + SNS + Secrets Manager – “Lock It, Login, Notify”**\n",
    "\n",
    "#### **🧠 Why this now?**\n",
    "\n",
    "You’ve built a working system, great. But without access control, it’s like leaving your diary open at a party — not smart. Also, if you can't send emails or alerts, how will users know they signed up (or that their EC2 is on fire)?\n",
    "\n",
    "> IAM is your bouncer. Cognito is your login system. SES sends emails, SNS screams alerts. Secrets Manager? It's your app's personal vault.\n",
    "\n",
    "\n",
    "#### **👨‍🔬 What You’ll Learn:**\n",
    "\n",
    "- How **IAM (Identity & Access Management)** secures everything in AWS\n",
    "\n",
    "- How **Cognito** lets users sign up, sign in, and stay signed in\n",
    "\n",
    "- How to send emails via **SES (Simple Email Service)**\n",
    "\n",
    "- How to trigger notifications with **SNS (Simple Notification Service)**\n",
    "\n",
    "- Store sensitive keys in **Secrets Manager** (instead of hardcoding 🙄)\n",
    "#### **🧪 Hands-on Tasks:**\n",
    "\n",
    "**🔹 IAM:**\n",
    "\n",
    "- Create IAM user → Attach Admin/Custom policy\n",
    "\n",
    "- Understand policies in JSON → give permissions like a boss\n",
    "\n",
    "- Use IAM Roles for EC2 (so it can access S3 or DynamoDB securely)\n",
    "\n",
    "**🔹 Cognito:**\n",
    "\n",
    "- Console → Cognito → Create User Pool\n",
    "\n",
    "- Setup sign-up/sign-in, email verification\n",
    "\n",
    "- Integrate with frontend (React/Node) using AWS Amplify or SDK\n",
    "\n",
    "**🔹 SES + SNS:**\n",
    "\n",
    "- Console → SES → Verify your email → Send test mail\n",
    "\n",
    "- Setup SMTP credentials\n",
    "\n",
    "- Console → SNS → Create topic → Add subscribers → Publish messages\n",
    "\n",
    "**🔹 Secrets Manager:**\n",
    "\n",
    "- Store DB passwords, API keys securely\n",
    "\n",
    "- Access them in Lambda or EC2 using SDK\n",
    "\n",
    "#### **✅ By End of Day 5, You’ll Be Able To:**\n",
    "\n",
    "- Handle user signups, logins, and roles securely\n",
    "\n",
    "- Send emails and alerts like a pro SaaS app\n",
    "\n",
    "- Lock down your AWS infra and store secrets the right way\n",
    "\n",
    "> TL;DR: Day 5 is about making your app secure, trustworthy, and professional — not a hacker’s weekend project."
   ]
  },
  {
   "cell_type": "markdown",
   "id": "4f7db72c",
   "metadata": {},
   "source": [
    "--------"
   ]
  },
  {
   "cell_type": "markdown",
   "id": "3c0af86a",
   "metadata": {},
   "source": [
    "### **✅ Day 6: S3 + EC2 + Backups + Redis – “Store It, Run It, Cache It, Save It”**\n",
    "\n",
    "#### **🧠 Why now?**\n",
    "\n",
    "You’ve got compute. You’ve got containers. Now let’s talk about storage — static files, backups, and faster response with caching.\n",
    "\n",
    "> S3 is your USB drive. EC2 is your CPU. Redis is your RAM. Backups? That’s your Ctrl+Z in the cloud.\n",
    "\n",
    "#### **👨‍🔬 What You’ll Learn:**\n",
    "\n",
    "- Store and serve assets using S3 (Simple Storage Service)\n",
    "\n",
    "- Revisit **EC2** for advanced settings like volumes, snapshots\n",
    "\n",
    "- Use **Redis (ElastiCache)** for caching DB queries/sessions\n",
    "\n",
    "- Backup EC2 volumes and RDS DBs manually or on schedule\n",
    "\n",
    "**🧪 Hands-on Tasks:**\n",
    "\n",
    "**🔹 S3:**\n",
    "\n",
    "- Console → S3 → Create bucket\n",
    "\n",
    "- Upload files → Enable static website hosting\n",
    "\n",
    "- Make objects public → Share file URLs\n",
    "\n",
    "**🔹 EC2 Advanced:**\n",
    "\n",
    "- Create EC2 → Add EBS volume → Mount and store logs/files\n",
    "\n",
    "- Create Snapshot → AMI → Launch instance from backup\n",
    "\n",
    "**🔹 Redis (ElastiCache):**\n",
    "\n",
    "- Launch Redis cluster → Subnet group → Security Group rules\n",
    "\n",
    "- Connect using Node.js/Python → Cache GET/SET data\n",
    "\n",
    "**🔹 Backups:**\n",
    "\n",
    "- RDS → Enable automated backups → Set retention\n",
    "\n",
    "- EC2 → Snapshot EBS volumes manually or automate via Lifecycle\n",
    "\n",
    "**✅ By End of Day 6, You’ll Be Able To:**\n",
    "\n",
    "- Store, serve, and back up your app's assets\n",
    "\n",
    "- Cache dynamic content using Redis\n",
    "\n",
    "- Snapshot EC2s and RDS to avoid disasters\n",
    "\n",
    "> TL;DR: Now your app isn’t just running — it’s fast, reliable, and recoverable. Even your code is jealous."
   ]
  },
  {
   "cell_type": "markdown",
   "id": "fcc7898e",
   "metadata": {},
   "source": [
    "----------"
   ]
  },
  {
   "cell_type": "markdown",
   "id": "d687b134",
   "metadata": {},
   "source": [
    "### **✅ Day 7: Lambda + CloudWatch + CloudFront – “Serverless & Surveillance”**\n",
    "\n",
    "#### **🧠 Why now?**\n",
    "\n",
    "Imagine if your code ran **only when needed**, didn’t require a server, and charged you only when used. Welcome to **AWS Lambda**.\n",
    "\n",
    "> CloudWatch is your CCTV. Lambda is your magical function butler.\n",
    "\n",
    "> CloudFront is your CDN on steroids.\n",
    "\n",
    "\n",
    "#### **👨‍🔬 What You’ll Learn:**\n",
    "\n",
    "- What is **serverless** computing with Lambda\n",
    "\n",
    "- Trigger Lambda via HTTP, S3, or other AWS services\n",
    "\n",
    "- Monitor logs, alarms, and metrics via **CloudWatch**\n",
    "\n",
    "- Serve assets globally using **CloudFront**\n",
    "\n",
    "#### **🧪 Hands-on Tasks:**\n",
    "\n",
    "**🔹 Lambda:**\n",
    "\n",
    "- Console → Lambda → Create function (Author from scratch)\n",
    "\n",
    "- Add trigger: API Gateway or S3 upload\n",
    "\n",
    "- Write function in Python or Node → Deploy → Test\n",
    "\n",
    "**🔹 CloudWatch:**\n",
    "\n",
    "- Check logs from EC2/Lambda\n",
    "\n",
    "- Create custom metrics and alarms\n",
    "\n",
    "- Send alarm via SNS when memory > 70%\n",
    "\n",
    "**🔹 CloudFront:**\n",
    "\n",
    "- Create distribution → Connect S3 bucket\n",
    "\n",
    "- Add caching behavior\n",
    "\n",
    "- Test speed boost for global users\n",
    "\n",
    "**✅ By End of Day 7, You’ll Be Able To:**\n",
    "\n",
    "- Run backend code without servers\n",
    "\n",
    "- Monitor and debug like a DevOps engineer\n",
    "\n",
    "- Deliver static content faster globally\n",
    "\n",
    "> TL;DR: Day 7 is about automation, speed, and visibility. Your app is leaner, faster, and self-aware."
   ]
  },
  {
   "cell_type": "markdown",
   "id": "1f7ab2bc",
   "metadata": {},
   "source": [
    "--------"
   ]
  },
  {
   "cell_type": "markdown",
   "id": "ecbe19c8",
   "metadata": {},
   "source": [
    "### **✅ Day 8: Final Cloud Project + Review – “Bring It All Together”**\n",
    "\n",
    "#### **🧠 Why this matters?**\n",
    "\n",
    "Theory without practice is like buying gym gear and never working out. Time to build something real — bring all 7 days together.\n",
    "\n",
    "> This is your AWS graduation day. 🎓 You’ve played with the services, now ship a mini production-ready app.\n",
    "\n",
    "\n",
    "#### **👨‍💻 What You’ll Do:**\n",
    "\n",
    "- Build a mini project:\n",
    "\n",
    "    - User sign-up/login → Cognito\n",
    "\n",
    "    - Store profile → RDS/DynamoDB\n",
    "\n",
    "    - Serve frontend → S3 + CloudFront\n",
    "\n",
    "    - API backend → Lambda + API Gateway\n",
    "\n",
    "    - Deploy with Docker → ECS\n",
    "\n",
    "    - Monitor logs → CloudWatch\n",
    "\n",
    "    - Send email alerts → SES\n",
    "\n",
    "    - Domain → Route 53\n",
    "\n",
    "- BONUS: Add Redis caching + Auto Scaling EC2 fallback\n",
    "\n",
    "#### **✅ By End of Day 8, You’ll Be Able To:**\n",
    "\n",
    "- Deploy full-stack cloud projects with modern AWS services\n",
    "\n",
    "- Connect the dots across compute, storage, auth, monitoring, and more\n",
    "\n",
    "- Ace any beginner-level cloud architecture interview question\n",
    "\n",
    "> TL;DR: You went from zero to cloud hero. Proud of you.\n",
    "\n"
   ]
  },
  {
   "cell_type": "markdown",
   "id": "1d37e923",
   "metadata": {},
   "source": [
    "--------"
   ]
  }
 ],
 "metadata": {
  "language_info": {
   "name": "python"
  }
 },
 "nbformat": 4,
 "nbformat_minor": 5
}
